{
 "cells": [
  {
   "cell_type": "code",
   "execution_count": 90,
   "metadata": {
    "colab": {},
    "colab_type": "code",
    "id": "F-6bE0dYcBgA"
   },
   "outputs": [],
   "source": [
    "## Import stuff\n",
    " \n",
    "import numpy as np\n",
    "from sklearn import datasets, linear_model, metrics"
   ]
  },
  {
   "cell_type": "code",
   "execution_count": 91,
   "metadata": {
    "colab": {},
    "colab_type": "code",
    "id": "gK71NIhMcEs5"
   },
   "outputs": [],
   "source": [
    "## Load the diabetes dataset\n",
    "diabetes = datasets.load_diabetes()\n",
    "diabetes_X = diabetes.data # matrix of dimensions 442x10\n",
    " \n",
    "# Split the data into training/testing sets\n",
    "diabetes_X_train = diabetes_X[:-20]\n",
    "diabetes_X_test = diabetes_X[-20:]\n",
    " \n",
    "# Split the targets into training/testing sets\n",
    "diabetes_y_train = diabetes.target[:-20]\n",
    "diabetes_y_test = diabetes.target[-20:]"
   ]
  },
  {
   "cell_type": "code",
   "execution_count": 92,
   "metadata": {
    "colab": {},
    "colab_type": "code",
    "id": "XJTg22ybcHsl"
   },
   "outputs": [
    {
     "name": "stdout",
     "output_type": "stream",
     "text": [
      "Epoch 0: 14571.937953\n",
      "Epoch 500: 2296.985427\n",
      "Epoch 1000: 1980.262446\n",
      "Epoch 1500: 1815.208387\n",
      "Epoch 2000: 1719.295237\n",
      "Epoch 2500: 1657.484974\n",
      "Epoch 3000: 1614.286167\n",
      "Epoch 3500: 1582.395930\n",
      "Epoch 4000: 1558.049642\n",
      "Epoch 4500: 1539.091619\n",
      "Epoch 5000: 1524.155537\n",
      "Epoch 5500: 1512.302071\n",
      "Epoch 6000: 1502.848290\n",
      "Epoch 6500: 1495.280053\n",
      "Epoch 7000: 1489.202193\n",
      "Epoch 7500: 1484.307241\n",
      "Epoch 8000: 1480.354156\n",
      "Epoch 8500: 1477.153036\n",
      "Epoch 9000: 1474.553728\n",
      "Epoch 9500: 1472.437167\n",
      "Epoch 10000: 1470.708710\n",
      "Epoch 10500: 1469.292953\n",
      "Epoch 11000: 1468.129694\n",
      "Epoch 11500: 1467.170769\n",
      "Epoch 12000: 1466.377566\n",
      "Epoch 12500: 1465.719067\n",
      "Epoch 13000: 1465.170309\n",
      "Epoch 13500: 1464.711157\n",
      "Epoch 14000: 1464.325342\n",
      "Epoch 14500: 1463.999689\n",
      "Epoch 15000: 1463.723508\n",
      "Epoch 15500: 1463.488108\n",
      "Epoch 16000: 1463.286409\n",
      "Epoch 16500: 1463.112627\n",
      "Epoch 17000: 1462.962033\n",
      "Epoch 17500: 1462.830747\n",
      "Epoch 18000: 1462.715581\n",
      "Epoch 18500: 1462.613909\n",
      "Epoch 19000: 1462.523562\n",
      "Epoch 19500: 1462.442746\n",
      "Epoch 20000: 1462.369973\n",
      "Epoch 20500: 1462.304007\n",
      "Epoch 21000: 1462.243815\n",
      "Epoch 21500: 1462.188535\n",
      "Epoch 22000: 1462.137448\n"
     ]
    }
   ],
   "source": [
    "# train\n",
    "X = diabetes_X_train\n",
    "y = diabetes_y_train\n",
    "\n",
    "n = X.shape[1]\n",
    "m = X.shape[0]\n",
    "\n",
    "# train: init\n",
    "W = np.zeros((n,1))\n",
    "b = 0\n",
    "\n",
    "cost_train=[]\n",
    "iteration_train=[]\n",
    "\n",
    "learning_rate = 0.1\n",
    "epochs = 22001\n",
    "\n",
    "#adding one more column to x in the beginning\n",
    "X = np.concatenate((np.ones((m,1)), X), axis = 1)\n",
    " # initializing the parameter vector...\n",
    "theta = np.ones((n+1,1))\n",
    "y=y.reshape(m,1)\n",
    "\n",
    " \n",
    "# train: gradient descent\n",
    "for i in range(epochs):\n",
    "    # calculate predictions\n",
    "    pred = X.dot(theta)\n",
    "      \n",
    "    # calculate error and cost (mean squared error)\n",
    "    mean_squared_error = ((pred-y).transpose().dot(pred-y))/(2*m)\n",
    "    \n",
    "    cost_train.append(mean_squared_error[0,0])\n",
    "    iteration_train.append(i)\n",
    "   \n",
    "    # calculate gradients\n",
    "    grad = (1/m)*X.transpose().dot(pred-y)\n",
    " \n",
    "    # update parameters\n",
    "    theta=theta-learning_rate*grad\n",
    "    \n",
    "    # diagnostic output\n",
    "    if i % 500 == 0: print(\"Epoch %d: %f\" % (i, mean_squared_error))\n"
   ]
  },
  {
   "cell_type": "code",
   "execution_count": 93,
   "metadata": {
    "colab": {},
    "colab_type": "code",
    "id": "uvSdTn-0cKJL"
   },
   "outputs": [
    {
     "name": "stdout",
     "output_type": "stream",
     "text": [
      "Coefficients: \n",
      " [[-283.43542461]\n",
      " [-193.76199389]\n",
      " [ 550.27849603]\n",
      " [ 227.08898772]\n",
      " [  72.8500288 ]\n",
      " [-148.13383913]\n",
      " [-199.0189638 ]\n",
      " [  -4.60624043]\n",
      " [ 739.02712529]\n",
      " [  40.30140553]]\n",
      "Mean squared error: 720.66\n",
      "========================================================================================================================\n"
     ]
    }
   ],
   "source": [
    "# test\n",
    "X = diabetes_X_test\n",
    "y = diabetes_y_test\n",
    " \n",
    "n = X.shape[1]\n",
    "m = X.shape[0]\n",
    "\n",
    "X = np.concatenate((np.ones((m,1)), X), axis = 1)\n",
    "\n",
    " # initializing the parameter vector...\n",
    "theta = np.ones((n+1,1))\n",
    "y=y.reshape(m,1)\n",
    "cost_test=[]\n",
    "iteration_test=[]\n",
    "\n",
    "\n",
    "# calculate predictions + calculate error and cost (same code as above)\n",
    "for i in range(epochs):\n",
    "    # calculate predictions\n",
    "    pred = X.dot(theta)\n",
    "    \n",
    "    # calculate error and cost (mean squared error)\n",
    "    mean_squared_error = ((pred-y).transpose().dot(pred-y))/(2*m)\n",
    "    \n",
    "    cost_test.append(mean_squared_error[0,0])\n",
    "    iteration_test.append(i)\n",
    " \n",
    "    # calculate gradients\n",
    "    grad = (1/m)*X.transpose().dot(pred-y)\n",
    " \n",
    "    # update parameters\n",
    "    theta=theta-learning_rate*grad\n",
    "    \n",
    "W=theta[1:]\n",
    "b=theta[0]\n",
    "\n",
    "print('Coefficients: \\n', W)\n",
    "print(\"Mean squared error: %.2f\" % mean_squared_error)\n",
    "print(\"=\"*120)"
   ]
  },
  {
   "cell_type": "code",
   "execution_count": 94,
   "metadata": {},
   "outputs": [
    {
     "data": {
      "image/png": "[encoded data removed]",
      "text/plain": [
       "<Figure size 1440x576 with 2 Axes>"
      ]
     },
     "metadata": {
      "needs_background": "light"
     },
     "output_type": "display_data"
    }
   ],
   "source": [
    "import matplotlib.pyplot as plt\n",
    "\n",
    "fig, axes= plt.subplots(nrows=1, ncols=2,figsize=(20,8))\n",
    "axes[0].plot(iteration_train,cost_train)\n",
    "axes[0].set_xlabel('No. of iterations')\n",
    "axes[0].set_ylabel('mean_squared error(cost function)')\n",
    "axes[0].set_title('Train case')\n",
    "axes[1].plot(iteration_test,cost_test)\n",
    "axes[1].set_xlabel('No. of iterations')\n",
    "axes[1].set_ylabel('mean_squared error(cost function)')\n",
    "axes[1].set_title('Test case')\n",
    "\n",
    "''' Displaying the plot'''\n",
    "\n",
    "plt.tight_layout(pad=5.0)\n",
    "plt.show()"
   ]
  }
 ],
 "metadata": {
  "colab": {
   "name": "week1assignment.ipynb",
   "provenance": []
  },
  "kernelspec": {
   "display_name": "Python 3",
   "language": "python",
   "name": "python3"
  },
  "language_info": {
   "codemirror_mode": {
    "name": "ipython",
    "version": 3
   },
   "file_extension": ".py",
   "mimetype": "text/x-python",
   "name": "python",
   "nbconvert_exporter": "python",
   "pygments_lexer": "ipython3",
   "version": "3.7.4"
  }
 },
 "nbformat": 4,
 "nbformat_minor": 1
}
