{
 "cells": [
  {
   "cell_type": "code",
   "execution_count": 1,
   "metadata": {
    "colab": {},
    "colab_type": "code",
    "id": "F-6bE0dYcBgA"
   },
   "outputs": [],
   "source": [
    "## Import stuff\n",
    " \n",
    "import numpy as np\n",
    "from sklearn import datasets, linear_model, metrics"
   ]
  },
  {
   "cell_type": "code",
   "execution_count": 2,
   "metadata": {
    "colab": {},
    "colab_type": "code",
    "id": "gK71NIhMcEs5"
   },
   "outputs": [],
   "source": [
    "## Load the diabetes dataset\n",
    "diabetes = datasets.load_diabetes()\n",
    "diabetes_X = diabetes.data # matrix of dimensions 442x10\n",
    " \n",
    "# Split the data into training/testing sets\n",
    "diabetes_X_train = diabetes_X[:-20]\n",
    "diabetes_X_test = diabetes_X[-20:]\n",
    " \n",
    "# Split the targets into training/testing sets\n",
    "diabetes_y_train = diabetes.target[:-20]\n",
    "diabetes_y_test = diabetes.target[-20:]"
   ]
  },
  {
   "cell_type": "code",
   "execution_count": 57,
   "metadata": {
    "colab": {},
    "colab_type": "code",
    "id": "XJTg22ybcHsl"
   },
   "outputs": [
    {
     "name": "stdout",
     "output_type": "stream",
     "text": [
      "Epoch 0: 14734.323460\n",
      "Epoch 500: 1557.816337\n",
      "Epoch 1000: 1480.300471\n",
      "Epoch 1500: 1466.368985\n",
      "Epoch 2000: 1463.288796\n",
      "Epoch 2500: 1462.375189\n",
      "Epoch 3000: 1461.970386\n",
      "Epoch 3500: 1461.708157\n",
      "Epoch 4000: 1461.493957\n",
      "Epoch 4500: 1461.299553\n",
      "Epoch 5000: 1461.115434\n",
      "Epoch 5500: 1460.938038\n",
      "Epoch 6000: 1460.765866\n",
      "Epoch 6500: 1460.598185\n",
      "Epoch 7000: 1460.434565\n",
      "Epoch 7500: 1460.274704\n",
      "Epoch 8000: 1460.118371\n",
      "Epoch 8500: 1459.965370\n",
      "Epoch 9000: 1459.815530\n",
      "Epoch 9500: 1459.668703\n",
      "Epoch 10000: 1459.524755\n",
      "Epoch 10500: 1459.383567\n",
      "Epoch 11000: 1459.245030\n",
      "Epoch 11500: 1459.109047\n",
      "Epoch 12000: 1458.975529\n",
      "Epoch 12500: 1458.844395\n",
      "Epoch 13000: 1458.715571\n",
      "Epoch 13500: 1458.588989\n",
      "Epoch 14000: 1458.464586\n",
      "Epoch 14500: 1458.342303\n",
      "Epoch 15000: 1458.222087\n",
      "Epoch 15500: 1458.103886\n",
      "Epoch 16000: 1457.987653\n",
      "Epoch 16500: 1457.873344\n",
      "Epoch 17000: 1457.760916\n",
      "Epoch 17500: 1457.650329\n",
      "Epoch 18000: 1457.541546\n",
      "Epoch 18500: 1457.434530\n",
      "Epoch 19000: 1457.329246\n",
      "Epoch 19500: 1457.225662\n",
      "Epoch 20000: 1457.123745\n",
      "Epoch 20500: 1457.023466\n",
      "Epoch 21000: 1456.924793\n",
      "Epoch 21500: 1456.827699\n",
      "Epoch 22000: 1456.732155\n"
     ]
    }
   ],
   "source": [
    "# train\n",
    "X = diabetes_X_train\n",
    "y = diabetes_y_train\n",
    "\n",
    "# train: init\n",
    "W = np.zeros((11,1))\n",
    "b = 0\n",
    "\n",
    "cost_train=[]\n",
    "iteration_train=[]\n",
    "\n",
    "learning_rate = 0.8\n",
    "epochs = 22001\n",
    "\n",
    "#adding one more column to x in the beginning\n",
    "X = np.concatenate((np.ones((len(X),1)), X), axis = 1)\n",
    " # initializing the parameter vector...\n",
    "y=y.reshape(len(X),1)\n",
    "\n",
    "# train: gradient descent\n",
    "for i in range(epochs):\n",
    "    # calculate predictions\n",
    "    prediction = np.dot(X,W)\n",
    "      \n",
    "    # calculate error and cost (mean squared error)\n",
    "    y_new=prediction-y\n",
    "    mean_squared_error = (np.dot(y_new.T,y_new))/(2*len(X))\n",
    "    \n",
    "    cost_train.append(mean_squared_error[0,0])\n",
    "    iteration_train.append(i)\n",
    "   \n",
    "    # calculate gradients\n",
    "    grad = (1/len(X))*X.transpose().dot(y_new)\n",
    " \n",
    "    # update parameters\n",
    "    W=W-learning_rate*grad\n",
    "    \n",
    "    # diagnostic output\n",
    "    if i % 500 == 0: print(\"Epoch %d: %f\" % (i, mean_squared_error))\n"
   ]
  },
  {
   "cell_type": "code",
   "execution_count": 59,
   "metadata": {
    "colab": {},
    "colab_type": "code",
    "id": "uvSdTn-0cKJL"
   },
   "outputs": [
    {
     "name": "stdout",
     "output_type": "stream",
     "text": [
      "Coefficients: \n",
      " [[ 135.70032552]\n",
      " [-269.44962678]\n",
      " [-180.94943887]\n",
      " [ 341.8324675 ]\n",
      " [ 227.96550172]\n",
      " [ 265.35242883]\n",
      " [-193.06182728]\n",
      " [-423.62569647]\n",
      " [-364.83475828]\n",
      " [1004.13050859]\n",
      " [  24.42257944]]\n",
      "Mean squared error: 692.08\n",
      "========================================================================================================================\n"
     ]
    }
   ],
   "source": [
    "# test\n",
    "X = diabetes_X_test\n",
    "y = diabetes_y_test\n",
    " \n",
    "X = np.concatenate((np.ones((len(X),1)), X), axis = 1)\n",
    "\n",
    " # initializing the parameter vector...\n",
    "W = np.zeros((11,1))\n",
    "y=y.reshape(len(X),1)\n",
    "cost_test=[]\n",
    "iteration_test=[]\n",
    "\n",
    "\n",
    "# calculate predictions + calculate error and cost (same code as above)\n",
    "for i in range(epochs):\n",
    "    # calculate predictions\n",
    "    prediction = X.dot(W)\n",
    "    \n",
    "    # calculate error and cost (mean squared error)\n",
    "    y_error=prediction-y\n",
    "    mean_squared_error = (np.dot(y_error.T,y_error))/(2*len(X))\n",
    "    \n",
    "    cost_test.append(mean_squared_error[0,0])\n",
    "    iteration_test.append(i)\n",
    " \n",
    "    # calculate gradients\n",
    "    grad = (1/len(X))*(np.dot(X.T,y_error))\n",
    " \n",
    "    # update parameters\n",
    "    W=W-learning_rate*grad\n",
    "        \n",
    "print('Coefficients: \\n', W)\n",
    "print(\"Mean squared error: %.2f\" % mean_squared_error)\n",
    "print(\"=\"*120)"
   ]
  },
  {
   "cell_type": "code",
   "execution_count": null,
   "metadata": {},
   "outputs": [],
   "source": []
  },
  {
   "cell_type": "code",
   "execution_count": null,
   "metadata": {},
   "outputs": [],
   "source": []
  }
 ],
 "metadata": {
  "colab": {
   "name": "week1assignment.ipynb",
   "provenance": []
  },
  "kernelspec": {
   "display_name": "Python 3",
   "language": "python",
   "name": "python3"
  },
  "language_info": {
   "codemirror_mode": {
    "name": "ipython",
    "version": 3
   },
   "file_extension": ".py",
   "mimetype": "text/x-python",
   "name": "python",
   "nbconvert_exporter": "python",
   "pygments_lexer": "ipython3",
   "version": "3.7.4"
  }
 },
 "nbformat": 4,
 "nbformat_minor": 1
}
